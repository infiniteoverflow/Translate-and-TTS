{
  "nbformat": 4,
  "nbformat_minor": 0,
  "metadata": {
    "colab": {
      "name": "Translate and TTS.ipynb",
      "provenance": [],
      "toc_visible": true,
      "authorship_tag": "ABX9TyOjUBDMPTHAGUdNKMjcZP0a",
      "include_colab_link": true
    },
    "kernelspec": {
      "name": "python3",
      "display_name": "Python 3"
    },
    "accelerator": "GPU"
  },
  "cells": [
    {
      "cell_type": "markdown",
      "metadata": {
        "id": "view-in-github",
        "colab_type": "text"
      },
      "source": [
        "<a href=\"https://colab.research.google.com/github/infiniteoverflow/Translate-and-TTS/blob/master/Translate_and_TTS.ipynb\" target=\"_parent\"><img src=\"https://colab.research.google.com/assets/colab-badge.svg\" alt=\"Open In Colab\"/></a>"
      ]
    },
    {
      "cell_type": "code",
      "metadata": {
        "id": "M4vKzyTnYUs2",
        "colab_type": "code",
        "colab": {}
      },
      "source": [
        "!pip install easyocr"
      ],
      "execution_count": null,
      "outputs": []
    },
    {
      "cell_type": "code",
      "metadata": {
        "id": "YhIEwH14ak9v",
        "colab_type": "code",
        "colab": {}
      },
      "source": [
        "!pip install gTTS"
      ],
      "execution_count": null,
      "outputs": []
    },
    {
      "cell_type": "code",
      "metadata": {
        "id": "Ij4MBsK1az5G",
        "colab_type": "code",
        "colab": {}
      },
      "source": [
        "!pip install googletrans"
      ],
      "execution_count": null,
      "outputs": []
    },
    {
      "cell_type": "code",
      "metadata": {
        "id": "9sZ9XoZda2MP",
        "colab_type": "code",
        "colab": {}
      },
      "source": [
        "from googletrans import Translator\n",
        "import easyocr\n",
        "from gtts import gTTS\n",
        "from IPython.display import Audio"
      ],
      "execution_count": 4,
      "outputs": []
    },
    {
      "cell_type": "code",
      "metadata": {
        "id": "Z5HGxMAhoRo5",
        "colab_type": "code",
        "colab": {}
      },
      "source": [
        "reader = easyocr.Reader(['hi'])\n",
        "translator = Translator()"
      ],
      "execution_count": 9,
      "outputs": []
    },
    {
      "cell_type": "code",
      "metadata": {
        "id": "O34SUPDRavn6",
        "colab_type": "code",
        "colab": {
          "base_uri": "https://localhost:8080/",
          "height": 109
        },
        "outputId": "a53c3dfd-8258-4e54-d152-85e65cecd2b6"
      },
      "source": [
        "import PIL\n",
        "from PIL import ImageDraw\n",
        "im = PIL.Image.open('/content/hindi.png')\n",
        "im"
      ],
      "execution_count": 10,
      "outputs": [
        {
          "output_type": "execute_result",
          "data": {
            "image/png": "[encoded data removed]",
            "text/plain": [
              "<PIL.PngImagePlugin.PngImageFile image mode=RGBA size=522x92 at 0x7F1B9050E128>"
            ]
          },
          "metadata": {
            "tags": []
          },
          "execution_count": 10
        }
      ]
    },
    {
      "cell_type": "code",
      "metadata": {
        "id": "Stkpat6ra_6w",
        "colab_type": "code",
        "colab": {
          "base_uri": "https://localhost:8080/",
          "height": 34
        },
        "outputId": "89820a36-1dc0-484f-ae1d-cdb724d2d3f2"
      },
      "source": [
        "bounds = reader.readtext(\n",
        "    '/content/hindi.png',\n",
        "    add_margin = 0.55,\n",
        "    width_ths = 0.7,\n",
        "    link_threshold = 0.8,\n",
        "    decoder = 'beamsearch',\n",
        "    blocklist='=-',\n",
        "    detail=0\n",
        ")\n",
        "\n",
        "bounds"
      ],
      "execution_count": 11,
      "outputs": [
        {
          "output_type": "execute_result",
          "data": {
            "text/plain": [
              "['मुझे अपने देश पर गर्व है']"
            ]
          },
          "metadata": {
            "tags": []
          },
          "execution_count": 11
        }
      ]
    },
    {
      "cell_type": "code",
      "metadata": {
        "id": "lwXL72LAbi4v",
        "colab_type": "code",
        "colab": {}
      },
      "source": [
        ""
      ],
      "execution_count": null,
      "outputs": []
    }
  ]
}