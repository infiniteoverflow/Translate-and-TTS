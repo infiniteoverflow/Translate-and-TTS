{
  "nbformat": 4,
  "nbformat_minor": 0,
  "metadata": {
    "colab": {
      "name": "Translate and TTS.ipynb",
      "provenance": [],
      "collapsed_sections": [],
      "authorship_tag": "ABX9TyN3grBBBbcmz1+rr5O+vH8J",
      "include_colab_link": true
    },
    "kernelspec": {
      "name": "python3",
      "display_name": "Python 3"
    },
    "accelerator": "GPU"
  },
  "cells": [
    {
      "cell_type": "markdown",
      "metadata": {
        "id": "view-in-github",
        "colab_type": "text"
      },
      "source": [
        "<a href=\"https://colab.research.google.com/github/infiniteoverflow/Translate-and-TTS/blob/master/Translate_and_TTS.ipynb\" target=\"_parent\"><img src=\"https://colab.research.google.com/assets/colab-badge.svg\" alt=\"Open In Colab\"/></a>"
      ]
    },
    {
      "cell_type": "code",
      "metadata": {
        "id": "M4vKzyTnYUs2",
        "colab_type": "code",
        "colab": {
          "base_uri": "https://localhost:8080/",
          "height": 462
        },
        "outputId": "3d87a384-1c3d-46c7-eee1-228f63cac25a"
      },
      "source": [
        "!pip install easyocr"
      ],
      "execution_count": 1,
      "outputs": [
        {
          "output_type": "stream",
          "text": [
            "Collecting easyocr\n",
            "\u001b[?25l  Downloading https://files.pythonhosted.org/packages/5c/7b/111aadf88948defb353ee50242eedbf77aa3d86a0bdb4595471978179fca/easyocr-1.1.7-py3-none-any.whl (48.4MB)\n",
            "\u001b[K     |████████████████████████████████| 48.4MB 59kB/s \n",
            "\u001b[?25hCollecting python-bidi\n",
            "  Downloading https://files.pythonhosted.org/packages/33/b0/f942d146a2f457233baaafd6bdf624eba8e0f665045b4abd69d1b62d097d/python_bidi-0.4.2-py2.py3-none-any.whl\n",
            "Requirement already satisfied: torch in /usr/local/lib/python3.6/dist-packages (from easyocr) (1.6.0+cu101)\n",
            "Requirement already satisfied: scipy in /usr/local/lib/python3.6/dist-packages (from easyocr) (1.4.1)\n",
            "Requirement already satisfied: numpy in /usr/local/lib/python3.6/dist-packages (from easyocr) (1.18.5)\n",
            "Requirement already satisfied: torchvision>=0.5 in /usr/local/lib/python3.6/dist-packages (from easyocr) (0.7.0+cu101)\n",
            "Requirement already satisfied: Pillow in /usr/local/lib/python3.6/dist-packages (from easyocr) (7.0.0)\n",
            "Requirement already satisfied: opencv-python in /usr/local/lib/python3.6/dist-packages (from easyocr) (4.1.2.30)\n",
            "Requirement already satisfied: scikit-image in /usr/local/lib/python3.6/dist-packages (from easyocr) (0.16.2)\n",
            "Requirement already satisfied: six in /usr/local/lib/python3.6/dist-packages (from python-bidi->easyocr) (1.15.0)\n",
            "Requirement already satisfied: future in /usr/local/lib/python3.6/dist-packages (from torch->easyocr) (0.16.0)\n",
            "Requirement already satisfied: matplotlib!=3.0.0,>=2.0.0 in /usr/local/lib/python3.6/dist-packages (from scikit-image->easyocr) (3.2.2)\n",
            "Requirement already satisfied: imageio>=2.3.0 in /usr/local/lib/python3.6/dist-packages (from scikit-image->easyocr) (2.4.1)\n",
            "Requirement already satisfied: networkx>=2.0 in /usr/local/lib/python3.6/dist-packages (from scikit-image->easyocr) (2.4)\n",
            "Requirement already satisfied: PyWavelets>=0.4.0 in /usr/local/lib/python3.6/dist-packages (from scikit-image->easyocr) (1.1.1)\n",
            "Requirement already satisfied: kiwisolver>=1.0.1 in /usr/local/lib/python3.6/dist-packages (from matplotlib!=3.0.0,>=2.0.0->scikit-image->easyocr) (1.2.0)\n",
            "Requirement already satisfied: python-dateutil>=2.1 in /usr/local/lib/python3.6/dist-packages (from matplotlib!=3.0.0,>=2.0.0->scikit-image->easyocr) (2.8.1)\n",
            "Requirement already satisfied: pyparsing!=2.0.4,!=2.1.2,!=2.1.6,>=2.0.1 in /usr/local/lib/python3.6/dist-packages (from matplotlib!=3.0.0,>=2.0.0->scikit-image->easyocr) (2.4.7)\n",
            "Requirement already satisfied: cycler>=0.10 in /usr/local/lib/python3.6/dist-packages (from matplotlib!=3.0.0,>=2.0.0->scikit-image->easyocr) (0.10.0)\n",
            "Requirement already satisfied: decorator>=4.3.0 in /usr/local/lib/python3.6/dist-packages (from networkx>=2.0->scikit-image->easyocr) (4.4.2)\n",
            "Installing collected packages: python-bidi, easyocr\n",
            "Successfully installed easyocr-1.1.7 python-bidi-0.4.2\n"
          ],
          "name": "stdout"
        }
      ]
    },
    {
      "cell_type": "code",
      "metadata": {
        "id": "YhIEwH14ak9v",
        "colab_type": "code",
        "colab": {
          "base_uri": "https://localhost:8080/",
          "height": 360
        },
        "outputId": "7185af8a-4e87-4e0f-8624-8ada9ab50065"
      },
      "source": [
        "!pip install gTTS"
      ],
      "execution_count": 2,
      "outputs": [
        {
          "output_type": "stream",
          "text": [
            "Collecting gTTS\n",
            "  Downloading https://files.pythonhosted.org/packages/a1/0c/4ca77eca3b739a4a08360930643f58d714e302fee0d2f8c654e67d9af8e7/gTTS-2.1.1-py3-none-any.whl\n",
            "Requirement already satisfied: six in /usr/local/lib/python3.6/dist-packages (from gTTS) (1.15.0)\n",
            "Requirement already satisfied: requests in /usr/local/lib/python3.6/dist-packages (from gTTS) (2.23.0)\n",
            "Requirement already satisfied: beautifulsoup4 in /usr/local/lib/python3.6/dist-packages (from gTTS) (4.6.3)\n",
            "Requirement already satisfied: click in /usr/local/lib/python3.6/dist-packages (from gTTS) (7.1.2)\n",
            "Collecting gtts-token>=1.1.3\n",
            "  Downloading https://files.pythonhosted.org/packages/e7/25/ca6e9cd3275bfc3097fe6b06cc31db6d3dfaf32e032e0f73fead9c9a03ce/gTTS-token-1.1.3.tar.gz\n",
            "Requirement already satisfied: idna<3,>=2.5 in /usr/local/lib/python3.6/dist-packages (from requests->gTTS) (2.10)\n",
            "Requirement already satisfied: urllib3!=1.25.0,!=1.25.1,<1.26,>=1.21.1 in /usr/local/lib/python3.6/dist-packages (from requests->gTTS) (1.24.3)\n",
            "Requirement already satisfied: certifi>=2017.4.17 in /usr/local/lib/python3.6/dist-packages (from requests->gTTS) (2020.6.20)\n",
            "Requirement already satisfied: chardet<4,>=3.0.2 in /usr/local/lib/python3.6/dist-packages (from requests->gTTS) (3.0.4)\n",
            "Building wheels for collected packages: gtts-token\n",
            "  Building wheel for gtts-token (setup.py) ... \u001b[?25l\u001b[?25hdone\n",
            "  Created wheel for gtts-token: filename=gTTS_token-1.1.3-cp36-none-any.whl size=4097 sha256=5a1a1840dcb8553fc2f2f44260eada12701788dee334e25465187ce28babd2d5\n",
            "  Stored in directory: /root/.cache/pip/wheels/dd/11/61/33f7e51bf545e910552b2255eead2a7cd8ef54064b46dceb34\n",
            "Successfully built gtts-token\n",
            "Installing collected packages: gtts-token, gTTS\n",
            "Successfully installed gTTS-2.1.1 gtts-token-1.1.3\n"
          ],
          "name": "stdout"
        }
      ]
    },
    {
      "cell_type": "code",
      "metadata": {
        "id": "Ij4MBsK1az5G",
        "colab_type": "code",
        "colab": {
          "base_uri": "https://localhost:8080/",
          "height": 768
        },
        "outputId": "cfb35ecb-f380-4d55-8370-bb4d99d45ddd"
      },
      "source": [
        "!pip install googletrans"
      ],
      "execution_count": 3,
      "outputs": [
        {
          "output_type": "stream",
          "text": [
            "Collecting googletrans\n",
            "  Downloading https://files.pythonhosted.org/packages/71/3a/3b19effdd4c03958b90f40fe01c93de6d5280e03843cc5adf6956bfc9512/googletrans-3.0.0.tar.gz\n",
            "Collecting httpx==0.13.3\n",
            "\u001b[?25l  Downloading https://files.pythonhosted.org/packages/54/b4/698b284c6aed4d7c2b4fe3ba5df1fcf6093612423797e76fbb24890dd22f/httpx-0.13.3-py3-none-any.whl (55kB)\n",
            "\u001b[K     |████████████████████████████████| 61kB 5.5MB/s \n",
            "\u001b[?25hCollecting httpcore==0.9.*\n",
            "\u001b[?25l  Downloading https://files.pythonhosted.org/packages/dd/d5/e4ff9318693ac6101a2095e580908b591838c6f33df8d3ee8dd953ba96a8/httpcore-0.9.1-py3-none-any.whl (42kB)\n",
            "\u001b[K     |████████████████████████████████| 51kB 6.8MB/s \n",
            "\u001b[?25hRequirement already satisfied: chardet==3.* in /usr/local/lib/python3.6/dist-packages (from httpx==0.13.3->googletrans) (3.0.4)\n",
            "Requirement already satisfied: certifi in /usr/local/lib/python3.6/dist-packages (from httpx==0.13.3->googletrans) (2020.6.20)\n",
            "Requirement already satisfied: idna==2.* in /usr/local/lib/python3.6/dist-packages (from httpx==0.13.3->googletrans) (2.10)\n",
            "Collecting sniffio\n",
            "  Downloading https://files.pythonhosted.org/packages/b3/82/4bd4b7d9c0d1dc0fbfbc2a1e00138e7f3ab85bc239358fe9b78aa2ab586d/sniffio-1.1.0-py3-none-any.whl\n",
            "Collecting rfc3986<2,>=1.3\n",
            "  Downloading https://files.pythonhosted.org/packages/78/be/7b8b99fd74ff5684225f50dd0e865393d2265656ef3b4ba9eaaaffe622b8/rfc3986-1.4.0-py2.py3-none-any.whl\n",
            "Collecting hstspreload\n",
            "\u001b[?25l  Downloading https://files.pythonhosted.org/packages/db/a0/3378cffb2b4db42102063974bdc008d86883c4db5bb2b557d1b909c445df/hstspreload-2020.8.12-py3-none-any.whl (934kB)\n",
            "\u001b[K     |████████████████████████████████| 942kB 12.7MB/s \n",
            "\u001b[?25hCollecting h11<0.10,>=0.8\n",
            "\u001b[?25l  Downloading https://files.pythonhosted.org/packages/5a/fd/3dad730b0f95e78aeeb742f96fa7bbecbdd56a58e405d3da440d5bfb90c6/h11-0.9.0-py2.py3-none-any.whl (53kB)\n",
            "\u001b[K     |████████████████████████████████| 61kB 9.7MB/s \n",
            "\u001b[?25hCollecting h2==3.*\n",
            "\u001b[?25l  Downloading https://files.pythonhosted.org/packages/25/de/da019bcc539eeab02f6d45836f23858ac467f584bfec7a526ef200242afe/h2-3.2.0-py2.py3-none-any.whl (65kB)\n",
            "\u001b[K     |████████████████████████████████| 71kB 10.2MB/s \n",
            "\u001b[?25hCollecting contextvars>=2.1; python_version < \"3.7\"\n",
            "  Downloading https://files.pythonhosted.org/packages/83/96/55b82d9f13763be9d672622e1b8106c85acb83edd7cc2fa5bc67cd9877e9/contextvars-2.4.tar.gz\n",
            "Collecting hyperframe<6,>=5.2.0\n",
            "  Downloading https://files.pythonhosted.org/packages/19/0c/bf88182bcb5dce3094e2f3e4fe20db28a9928cb7bd5b08024030e4b140db/hyperframe-5.2.0-py2.py3-none-any.whl\n",
            "Collecting hpack<4,>=3.0\n",
            "  Downloading https://files.pythonhosted.org/packages/8a/cc/e53517f4a1e13f74776ca93271caef378dadec14d71c61c949d759d3db69/hpack-3.0.0-py2.py3-none-any.whl\n",
            "Collecting immutables>=0.9\n",
            "\u001b[?25l  Downloading https://files.pythonhosted.org/packages/99/e0/ea6fd4697120327d26773b5a84853f897a68e33d3f9376b00a8ff96e4f63/immutables-0.14-cp36-cp36m-manylinux1_x86_64.whl (98kB)\n",
            "\u001b[K     |████████████████████████████████| 102kB 12.2MB/s \n",
            "\u001b[?25hBuilding wheels for collected packages: googletrans, contextvars\n",
            "  Building wheel for googletrans (setup.py) ... \u001b[?25l\u001b[?25hdone\n",
            "  Created wheel for googletrans: filename=googletrans-3.0.0-cp36-none-any.whl size=15736 sha256=5f0efa917ae7df976150bf792ea3221b019cd6c3822f74a780eb5da23aa970fd\n",
            "  Stored in directory: /root/.cache/pip/wheels/28/1a/a7/eaf4d7a3417a0c65796c547cff4deb6d79c7d14c2abd29273e\n",
            "  Building wheel for contextvars (setup.py) ... \u001b[?25l\u001b[?25hdone\n",
            "  Created wheel for contextvars: filename=contextvars-2.4-cp36-none-any.whl size=7666 sha256=1895a55a02e972b9afab61e2df541f071d19e4ef61eae9beee2d109bf2e31d77\n",
            "  Stored in directory: /root/.cache/pip/wheels/a5/7d/68/1ebae2668bda2228686e3c1cf16f2c2384cea6e9334ad5f6de\n",
            "Successfully built googletrans contextvars\n",
            "Installing collected packages: h11, hyperframe, hpack, h2, immutables, contextvars, sniffio, httpcore, rfc3986, hstspreload, httpx, googletrans\n",
            "Successfully installed contextvars-2.4 googletrans-3.0.0 h11-0.9.0 h2-3.2.0 hpack-3.0.0 hstspreload-2020.8.12 httpcore-0.9.1 httpx-0.13.3 hyperframe-5.2.0 immutables-0.14 rfc3986-1.4.0 sniffio-1.1.0\n"
          ],
          "name": "stdout"
        }
      ]
    },
    {
      "cell_type": "code",
      "metadata": {
        "id": "9sZ9XoZda2MP",
        "colab_type": "code",
        "colab": {}
      },
      "source": [
        "from googletrans import Translator\n",
        "import easyocr\n",
        "from gtts import gTTS\n",
        "from IPython.display import Audio"
      ],
      "execution_count": 4,
      "outputs": []
    },
    {
      "cell_type": "code",
      "metadata": {
        "id": "Z5HGxMAhoRo5",
        "colab_type": "code",
        "colab": {
          "base_uri": "https://localhost:8080/",
          "height": 51
        },
        "outputId": "0e5419fa-6abf-4deb-aa0a-adbd9df822a1"
      },
      "source": [
        "reader = easyocr.Reader(['hi'])\n",
        "translator = Translator()"
      ],
      "execution_count": 5,
      "outputs": [
        {
          "output_type": "stream",
          "text": [
            "Downloading detection model, please wait. This may take several minutes depending upon your network connection.\n",
            "Downloading recognition model, please wait. This may take several minutes depending upon your network connection.\n"
          ],
          "name": "stderr"
        }
      ]
    },
    {
      "cell_type": "code",
      "metadata": {
        "id": "O34SUPDRavn6",
        "colab_type": "code",
        "colab": {
          "base_uri": "https://localhost:8080/",
          "height": 169
        },
        "outputId": "b5819c56-c76e-4da6-93f5-99054cac3a13"
      },
      "source": [
        "import PIL\n",
        "from PIL import ImageDraw\n",
        "\n",
        "image_path = '/content/hindi_quote.png'\n",
        "\n",
        "im = PIL.Image.open(image_path)\n",
        "im"
      ],
      "execution_count": 26,
      "outputs": [
        {
          "output_type": "execute_result",
          "data": {
            "image/png": "[encoded data removed]",
            "text/plain": [
              "<PIL.PngImagePlugin.PngImageFile image mode=RGBA size=596x152 at 0x7FD8A1770240>"
            ]
          },
          "metadata": {
            "tags": []
          },
          "execution_count": 26
        }
      ]
    },
    {
      "cell_type": "code",
      "metadata": {
        "id": "Stkpat6ra_6w",
        "colab_type": "code",
        "colab": {
          "base_uri": "https://localhost:8080/",
          "height": 119
        },
        "outputId": "d54e7793-91fc-4e9d-e5cd-1f6f0c926e8a"
      },
      "source": [
        "bounds = reader.readtext(\n",
        "    image_path,\n",
        "    add_margin = 0.4,\n",
        "    width_ths = 0.7,\n",
        "    link_threshold = 0.8,\n",
        "    decoder = 'beamsearch',\n",
        "    blocklist='=-',\n",
        "    detail=1,\n",
        ")\n",
        "\n",
        "bounds"
      ],
      "execution_count": 27,
      "outputs": [
        {
          "output_type": "execute_result",
          "data": {
            "text/plain": [
              "[([[0, 0], [589, 0], [589, 93], [0, 93]],\n",
              "  'यह विचारों के बारे में नहीं है। यह',\n",
              "  0.02165987342596054),\n",
              " ([[0, 58], [467, 58], [467, 152], [0, 152]],\n",
              "  'विचार बनाने के बारे में है।',\n",
              "  0.02288789115846157)]"
            ]
          },
          "metadata": {
            "tags": []
          },
          "execution_count": 27
        }
      ]
    },
    {
      "cell_type": "code",
      "metadata": {
        "id": "lwXL72LAbi4v",
        "colab_type": "code",
        "colab": {
          "base_uri": "https://localhost:8080/",
          "height": 169
        },
        "outputId": "64a8c217-a8b0-4e62-c5ef-b7a7340c2807"
      },
      "source": [
        "def draw_boxes(image,bounds,color='red',width=2):\n",
        "  draw = ImageDraw.Draw(image)\n",
        "  for bound in bounds:\n",
        "    p0,p1,p2,p3 = bound[0]\n",
        "    draw.line([*p0,*p1,*p2,*p3,*p0],fill=color,width=width)\n",
        "  return image\n",
        "\n",
        "draw_boxes(im,bounds)"
      ],
      "execution_count": 28,
      "outputs": [
        {
          "output_type": "execute_result",
          "data": {
            "image/png": "[encoded data removed]",
            "text/plain": [
              "<PIL.PngImagePlugin.PngImageFile image mode=RGBA size=596x152 at 0x7FD8A1770240>"
            ]
          },
          "metadata": {
            "tags": []
          },
          "execution_count": 28
        }
      ]
    },
    {
      "cell_type": "code",
      "metadata": {
        "id": "20ie3ez0dYdF",
        "colab_type": "code",
        "colab": {
          "base_uri": "https://localhost:8080/",
          "height": 34
        },
        "outputId": "3c1e53e3-c46f-460e-d693-9d759c16328e"
      },
      "source": [
        "## Remove Bounding box details\n",
        "\n",
        "text_list = reader.readtext(\n",
        "    image_path,\n",
        "    add_margin = 0.4,\n",
        "    width_ths = 0.7,\n",
        "    link_threshold = 0.8,\n",
        "    decoder = 'beamsearch',\n",
        "    blocklist='=-',\n",
        "    detail=0,\n",
        ")\n",
        "\n",
        "text_list"
      ],
      "execution_count": 29,
      "outputs": [
        {
          "output_type": "execute_result",
          "data": {
            "text/plain": [
              "['यह विचारों के बारे में नहीं है। यह', 'विचार बनाने के बारे में है।']"
            ]
          },
          "metadata": {
            "tags": []
          },
          "execution_count": 29
        }
      ]
    },
    {
      "cell_type": "code",
      "metadata": {
        "id": "isREFRUsdr8y",
        "colab_type": "code",
        "colab": {
          "base_uri": "https://localhost:8080/",
          "height": 35
        },
        "outputId": "89f95eb6-04b3-453d-b3d5-236c09fb5d53"
      },
      "source": [
        "text_comb = ' '.join(text_list)\n",
        "text_comb"
      ],
      "execution_count": 30,
      "outputs": [
        {
          "output_type": "execute_result",
          "data": {
            "application/vnd.google.colaboratory.intrinsic+json": {
              "type": "string"
            },
            "text/plain": [
              "'यह विचारों के बारे में नहीं है। यह विचार बनाने के बारे में है।'"
            ]
          },
          "metadata": {
            "tags": []
          },
          "execution_count": 30
        }
      ]
    },
    {
      "cell_type": "code",
      "metadata": {
        "id": "XGrO98aXd0Bd",
        "colab_type": "code",
        "colab": {
          "base_uri": "https://localhost:8080/",
          "height": 34
        },
        "outputId": "6f2f88ea-8c15-40d4-a575-3fc10379674f"
      },
      "source": [
        "print(translator.detect(text_comb))"
      ],
      "execution_count": 31,
      "outputs": [
        {
          "output_type": "stream",
          "text": [
            "Detected(lang=hi, confidence=1.0)\n"
          ],
          "name": "stdout"
        }
      ]
    },
    {
      "cell_type": "code",
      "metadata": {
        "id": "OBEdQ1d-d5dP",
        "colab_type": "code",
        "colab": {
          "base_uri": "https://localhost:8080/",
          "height": 34
        },
        "outputId": "f130b799-e89c-4516-979a-db8dc7040782"
      },
      "source": [
        "text_en = translator.translate(text_comb,src='hi')\n",
        "print(text_en.text)"
      ],
      "execution_count": 32,
      "outputs": [
        {
          "output_type": "stream",
          "text": [
            "It is not about ideas. It is about creating ideas.\n"
          ],
          "name": "stdout"
        }
      ]
    },
    {
      "cell_type": "code",
      "metadata": {
        "id": "LvU9yN8teI_w",
        "colab_type": "code",
        "colab": {}
      },
      "source": [
        "en_tts = gTTS(text_en.text)\n",
        "en_tts.save('/content/audio.mp3')"
      ],
      "execution_count": 33,
      "outputs": []
    },
    {
      "cell_type": "code",
      "metadata": {
        "id": "pK9eBK5lfRQ6",
        "colab_type": "code",
        "colab": {
          "base_uri": "https://localhost:8080/",
          "height": 75
        },
        "outputId": "c2fb3ba6-7ee4-4023-f1e9-4018e1e1c334"
      },
      "source": [
        "Audio('/content/audio.mp3',autoplay=True)"
      ],
      "execution_count": 34,
      "outputs": [
        {
          "output_type": "execute_result",
          "data": {
            "text/html": [
              "\n",
              "                <audio controls=\"controls\" autoplay=\"autoplay\">\n",
              "                    <source src=\"data:audio/mpeg;base64,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\" type=\"audio/mpeg\" />\n",
              "                    Your browser does not support the audio element.\n",
              "                </audio>\n",
              "              "
            ],
            "text/plain": [
              "<IPython.lib.display.Audio object>"
            ]
          },
          "metadata": {
            "tags": []
          },
          "execution_count": 34
        }
      ]
    },
    {
      "cell_type": "code",
      "metadata": {
        "id": "d5cQMBXOfWly",
        "colab_type": "code",
        "colab": {}
      },
      "source": [
        ""
      ],
      "execution_count": 14,
      "outputs": []
    }
  ]
}